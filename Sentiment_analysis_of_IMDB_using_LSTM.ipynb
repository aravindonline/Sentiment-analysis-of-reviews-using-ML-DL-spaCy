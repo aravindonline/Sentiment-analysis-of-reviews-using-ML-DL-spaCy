{
  "nbformat": 4,
  "nbformat_minor": 0,
  "metadata": {
    "colab": {
      "name": "Sentiment analysis of IMDB using LSTM.ipynb",
      "provenance": [],
      "collapsed_sections": [],
      "toc_visible": true
    },
    "kernelspec": {
      "name": "python3",
      "display_name": "Python 3"
    },
    "accelerator": "GPU"
  },
  "cells": [
    {
      "cell_type": "markdown",
      "metadata": {
        "id": "bo4rTR0JYVjW",
        "colab_type": "text"
      },
      "source": [
        "# **Sentiment analysis of IMDB using LSTM**"
      ]
    },
    {
      "cell_type": "code",
      "metadata": {
        "id": "YgpHnnVMYW7z",
        "colab_type": "code",
        "colab": {
          "base_uri": "https://localhost:8080/",
          "height": 34
        },
        "outputId": "a6b6abe4-ff16-4408-e277-3584c2ad27d4"
      },
      "source": [
        "from google.colab import drive\n",
        "drive.mount('/content/drive')"
      ],
      "execution_count": 3,
      "outputs": [
        {
          "output_type": "stream",
          "text": [
            "Drive already mounted at /content/drive; to attempt to forcibly remount, call drive.mount(\"/content/drive\", force_remount=True).\n"
          ],
          "name": "stdout"
        }
      ]
    },
    {
      "cell_type": "code",
      "metadata": {
        "id": "reKAT75YY6Sa",
        "colab_type": "code",
        "colab": {}
      },
      "source": [
        "import numpy as np\n",
        "import matplotlib.pyplot as plt\n",
        "plt.style.use('ggplot')"
      ],
      "execution_count": 4,
      "outputs": []
    },
    {
      "cell_type": "code",
      "metadata": {
        "id": "_vvQWJXhk6Kf",
        "colab_type": "code",
        "colab": {}
      },
      "source": [
        "# Supress deprecation warnings\n",
        "import logging\n",
        "logging.getLogger('tensorflow').disabled = True"
      ],
      "execution_count": 5,
      "outputs": []
    },
    {
      "cell_type": "code",
      "metadata": {
        "id": "vB1z6EvgY6Ve",
        "colab_type": "code",
        "colab": {
          "base_uri": "https://localhost:8080/",
          "height": 34
        },
        "outputId": "a7566ab3-2dfc-49d9-e8b6-27affb761f05"
      },
      "source": [
        "import tensorflow as tf \n",
        "from keras.datasets import imdb\n",
        "from keras import models\n",
        "from keras import layers\n",
        "from keras.preprocessing.sequence import pad_sequences"
      ],
      "execution_count": 6,
      "outputs": [
        {
          "output_type": "stream",
          "text": [
            "Using TensorFlow backend.\n"
          ],
          "name": "stderr"
        }
      ]
    },
    {
      "cell_type": "code",
      "metadata": {
        "id": "wY7cv0-YY6m3",
        "colab_type": "code",
        "colab": {}
      },
      "source": [
        "max_features = 10000  # Only include top 10,000 words in the vocabulary\n",
        "maxlen = 500  # Cut off each review after 500 words"
      ],
      "execution_count": 7,
      "outputs": []
    },
    {
      "cell_type": "code",
      "metadata": {
        "id": "lRjF_8DoY6pn",
        "colab_type": "code",
        "colab": {}
      },
      "source": [
        "(X_train, y_train), (X_test, y_test) = imdb.load_data(num_words = max_features)"
      ],
      "execution_count": 8,
      "outputs": []
    },
    {
      "cell_type": "code",
      "metadata": {
        "id": "gTWsCAcChVoZ",
        "colab_type": "code",
        "colab": {
          "base_uri": "https://localhost:8080/",
          "height": 34
        },
        "outputId": "2fe83196-c92d-4f40-a349-85dfe3fcfb85"
      },
      "source": [
        "X_train.shape,  X_test.shape"
      ],
      "execution_count": 9,
      "outputs": [
        {
          "output_type": "execute_result",
          "data": {
            "text/plain": [
              "((25000,), (25000,))"
            ]
          },
          "metadata": {
            "tags": []
          },
          "execution_count": 9
        }
      ]
    },
    {
      "cell_type": "markdown",
      "metadata": {
        "id": "C9gyH8_cBlib",
        "colab_type": "text"
      },
      "source": [
        "## Create map for converting IMDB dataset to readable reviews\n",
        "\n",
        "Reviews in the IMDB dataset have been encoded as a sequence of integers. Luckily the dataset also \n",
        "contains an index for converting the reviews back into human readable form."
      ]
    },
    {
      "cell_type": "code",
      "metadata": {
        "id": "6IY2GYwVBkuC",
        "colab_type": "code",
        "colab": {}
      },
      "source": [
        "# Get the word index from the dataset\n",
        "word_index = tf.keras.datasets.imdb.get_word_index()\n",
        "\n",
        "# Map for readable classnames\n",
        "class_names = [\"Negative\", \"Positive\"]\n",
        "\n",
        "# Ensure that \"special\" words are mapped into human readable terms \n",
        "word_index = {k:(v+3) for k,v in word_index.items()}\n",
        "word_index[\"<PAD>\"] = 0\n",
        "word_index[\"<START>\"] = 1\n",
        "word_index[\"<UNKNOWN>\"] = 2\n",
        "word_index[\"<UNUSED>\"] = 3\n",
        "\n",
        "# Perform reverse word lookup and make it callable\n",
        "reverse_word_index = dict([(value, key) for (key, value) in word_index.items()])\n",
        "def decode_review(text):\n",
        "    return ' '.join([reverse_word_index.get(i, '?') for i in text])"
      ],
      "execution_count": 10,
      "outputs": []
    },
    {
      "cell_type": "code",
      "metadata": {
        "id": "5lrhJZ39BrPs",
        "colab_type": "code",
        "colab": {
          "base_uri": "https://localhost:8080/",
          "height": 222
        },
        "outputId": "13e70a72-f877-41b1-e963-9443097e2b59"
      },
      "source": [
        "# Concatonate test and training datasets\n",
        "allreviews = np.concatenate((X_train, X_test), axis=0)\n",
        "\n",
        "# Review lengths across test and training whole datasets\n",
        "print(\"Maximum review length: {}\".format(len(max((allreviews), key=len))))\n",
        "print(\"Minimum review length: {}\".format(len(min((allreviews), key=len))))\n",
        "result = [len(x) for x in allreviews]\n",
        "print(\"Mean review length: {}\".format(np.mean(result)))\n",
        "\n",
        "# Print a review and it's class as stored in the dataset. Replace the number\n",
        "# to select a different review.\n",
        "print(\"\")\n",
        "print(\"Machine readable Review\")\n",
        "print(\"  Review Text: \" + str(X_train[8]))\n",
        "print(\"  Review Sentiment: \" + str(y_train[8]))\n",
        "\n",
        "# Print a review and it's class in human readable format. Replace the number\n",
        "# to select a different review.\n",
        "print(\"\")\n",
        "print(\"Human Readable Review\")\n",
        "print(\"  Review Text: \" + decode_review(X_train[8]))\n",
        "print(\"  Review Sentiment: \" + class_names[y_train[8]])"
      ],
      "execution_count": 11,
      "outputs": [
        {
          "output_type": "stream",
          "text": [
            "Maximum review length: 2494\n",
            "Minimum review length: 7\n",
            "Mean review length: 234.75892\n",
            "\n",
            "Machine readable Review\n",
            "  Review Text: [1, 43, 188, 46, 5, 566, 264, 51, 6, 530, 664, 14, 9, 1713, 81, 25, 1135, 46, 7, 6, 20, 750, 11, 141, 4299, 5, 2, 4441, 102, 28, 413, 38, 120, 5533, 15, 4, 3974, 7, 5369, 142, 371, 318, 5, 955, 1713, 571, 2, 2, 122, 14, 8, 72, 54, 12, 86, 385, 46, 5, 14, 20, 9, 399, 8, 72, 150, 13, 161, 124, 6, 155, 44, 14, 159, 170, 83, 12, 5, 51, 6, 866, 48, 25, 842, 4, 1120, 25, 238, 79, 4, 547, 15, 14, 9, 31, 7, 148, 2, 102, 44, 35, 480, 3823, 2380, 19, 120, 4, 350, 228, 5, 269, 8, 28, 178, 1314, 2347, 7, 51, 6, 87, 65, 12, 9, 979, 21, 95, 24, 3186, 178, 11, 2, 14, 9, 24, 15, 20, 4, 84, 376, 4, 65, 14, 127, 141, 6, 52, 292, 7, 4751, 175, 561, 7, 68, 3866, 137, 75, 2541, 68, 182, 5, 235, 175, 333, 19, 98, 50, 9, 38, 76, 724, 4, 6750, 15, 166, 285, 36, 140, 143, 38, 76, 53, 3094, 1301, 4, 6991, 16, 82, 6, 87, 3578, 44, 2527, 7612, 5, 800, 4, 3033, 11, 35, 1728, 96, 21, 14, 22, 9, 76, 53, 7, 6, 406, 65, 13, 43, 219, 12, 639, 21, 13, 80, 140, 5, 135, 15, 14, 9, 31, 7, 4, 118, 3672, 13, 28, 126, 110]\n",
            "  Review Sentiment: 1\n",
            "\n",
            "Human Readable Review\n",
            "  Review Text: <START> just got out and cannot believe what a brilliant documentary this is rarely do you walk out of a movie theater in such awe and <UNKNOWN> lately movies have become so over hyped that the thrill of discovering something truly special and unique rarely happens <UNKNOWN> <UNKNOWN> did this to me when it first came out and this movie is doing to me now i didn't know a thing about this before going into it and what a surprise if you hear the concept you might get the feeling that this is one of those <UNKNOWN> movies about an amazing triumph covered with over the top music and trying to have us fully convinced of what a great story it is telling but then not letting us in <UNKNOWN> this is not that movie the people tell the story this does such a good job of capturing every moment of their involvement while we enter their world and feel every second with them there is so much beyond the climb that makes everything they go through so much more tense touching the void was also a great doc about mountain climbing and showing the intensity in an engaging way but this film is much more of a human story i just saw it today but i will go and say that this is one of the best documentaries i have ever seen\n",
            "  Review Sentiment: Positive\n"
          ],
          "name": "stdout"
        }
      ]
    },
    {
      "cell_type": "markdown",
      "metadata": {
        "id": "8oVwJ1gAB0eB",
        "colab_type": "text"
      },
      "source": [
        "## Data Pre-processing\n",
        "\n",
        "We need to make sure that our reviews are of a uniform length. This is for the LSTM's parameters.\n",
        "\n",
        "Some reviews will need to be truncated, while others need to be padded."
      ]
    },
    {
      "cell_type": "code",
      "metadata": {
        "id": "eaWGopAxhVvW",
        "colab_type": "code",
        "colab": {}
      },
      "source": [
        "# Padding the data so that each sequence is of exactly 500 words\n",
        "\n",
        "X_train = pad_sequences(X_train, maxlen = maxlen)\n",
        "X_test = pad_sequences(X_test, maxlen = maxlen)"
      ],
      "execution_count": 12,
      "outputs": []
    },
    {
      "cell_type": "code",
      "metadata": {
        "id": "24sag_H1lJmp",
        "colab_type": "code",
        "colab": {
          "base_uri": "https://localhost:8080/",
          "height": 34
        },
        "outputId": "ebd5f415-9032-40d7-ae51-8c131c5bce1c"
      },
      "source": [
        "X_train.shape,  X_test.shape"
      ],
      "execution_count": 13,
      "outputs": [
        {
          "output_type": "execute_result",
          "data": {
            "text/plain": [
              "((25000, 500), (25000, 500))"
            ]
          },
          "metadata": {
            "tags": []
          },
          "execution_count": 13
        }
      ]
    },
    {
      "cell_type": "markdown",
      "metadata": {
        "id": "lbXmhgECCw61",
        "colab_type": "text"
      },
      "source": [
        "## Building the Model"
      ]
    },
    {
      "cell_type": "code",
      "metadata": {
        "id": "GkOQyuFJjJ84",
        "colab_type": "code",
        "colab": {}
      },
      "source": [
        "model = models.Sequential()\n",
        "model.add(layers.Embedding(input_dim = max_features, # The size of our vocabulary \n",
        "        output_dim = 32, # Dimensions to which each words shall be mapped\n",
        "        input_length = maxlen))\n",
        "model.add(layers.Dropout(0.2))\n",
        "model.add(layers.LSTM(32))  # return_sequences = False\n",
        "model.add(layers.Dropout(0.2))\n",
        "model.add(layers.Dense(1, activation = 'sigmoid'))\n",
        "model.compile(loss = 'binary_crossentropy', optimizer = 'adam', metrics = ['accuracy'])"
      ],
      "execution_count": 14,
      "outputs": []
    },
    {
      "cell_type": "markdown",
      "metadata": {
        "id": "g5tCvBEhC_Ix",
        "colab_type": "text"
      },
      "source": [
        "## Visualize the Model"
      ]
    },
    {
      "cell_type": "code",
      "metadata": {
        "id": "AHeLb57VjJ_R",
        "colab_type": "code",
        "colab": {
          "base_uri": "https://localhost:8080/",
          "height": 319
        },
        "outputId": "b63bfff2-3edf-4e0d-ce0f-0e6a2d3c1904"
      },
      "source": [
        "model.summary()"
      ],
      "execution_count": 15,
      "outputs": [
        {
          "output_type": "stream",
          "text": [
            "Model: \"sequential_1\"\n",
            "_________________________________________________________________\n",
            "Layer (type)                 Output Shape              Param #   \n",
            "=================================================================\n",
            "embedding_1 (Embedding)      (None, 500, 32)           320000    \n",
            "_________________________________________________________________\n",
            "dropout_1 (Dropout)          (None, 500, 32)           0         \n",
            "_________________________________________________________________\n",
            "lstm_1 (LSTM)                (None, 32)                8320      \n",
            "_________________________________________________________________\n",
            "dropout_2 (Dropout)          (None, 32)                0         \n",
            "_________________________________________________________________\n",
            "dense_1 (Dense)              (None, 1)                 33        \n",
            "=================================================================\n",
            "Total params: 328,353\n",
            "Trainable params: 328,353\n",
            "Non-trainable params: 0\n",
            "_________________________________________________________________\n"
          ],
          "name": "stdout"
        }
      ]
    },
    {
      "cell_type": "code",
      "metadata": {
        "id": "LrHdJeF1hV0e",
        "colab_type": "code",
        "colab": {
          "base_uri": "https://localhost:8080/",
          "height": 644
        },
        "outputId": "524562b9-7b14-43e0-cc55-36e4209f0af9"
      },
      "source": [
        "tf.keras.utils.plot_model(model,show_shapes=True, show_layer_names=False)"
      ],
      "execution_count": 16,
      "outputs": [
        {
          "output_type": "execute_result",
          "data": {
            "image/png": "[encoded data removed]",
            "text/plain": [
              "<IPython.core.display.Image object>"
            ]
          },
          "metadata": {
            "tags": []
          },
          "execution_count": 16
        }
      ]
    },
    {
      "cell_type": "markdown",
      "metadata": {
        "id": "n3XkL6IxDFbw",
        "colab_type": "text"
      },
      "source": [
        "## Train the LSTM"
      ]
    },
    {
      "cell_type": "markdown",
      "metadata": {
        "id": "2IrfEnz0oqOP",
        "colab_type": "text"
      },
      "source": [
        "**Batch size: Number of samples to work through before updating the \n",
        "internal model parameters via back propagation. The higher the batch, the more memory you need.**\n",
        "\n",
        "**The Embedding Layer provides a spatial mapping (or Word Embedding) of all the individual words in our training set. Words close to one another share context or meaning. This spatial mapping is learning during the training process.**"
      ]
    },
    {
      "cell_type": "code",
      "metadata": {
        "id": "qxH-AEOYhV5X",
        "colab_type": "code",
        "colab": {
          "base_uri": "https://localhost:8080/",
          "height": 457
        },
        "outputId": "9e242387-8bcf-4ca9-a957-9f324167c9e3"
      },
      "source": [
        "%%time\n",
        "history = model.fit(X_train, y_train, batch_size = 256, epochs = 10, validation_split = 0.2)"
      ],
      "execution_count": 17,
      "outputs": [
        {
          "output_type": "stream",
          "text": [
            "/usr/local/lib/python3.6/dist-packages/tensorflow/python/framework/indexed_slices.py:434: UserWarning: Converting sparse IndexedSlices to a dense Tensor of unknown shape. This may consume a large amount of memory.\n",
            "  \"Converting sparse IndexedSlices to a dense Tensor of unknown shape. \"\n"
          ],
          "name": "stderr"
        },
        {
          "output_type": "stream",
          "text": [
            "Train on 20000 samples, validate on 5000 samples\n",
            "Epoch 1/10\n",
            "20000/20000 [==============================] - 103s 5ms/step - loss: 0.5784 - accuracy: 0.6959 - val_loss: 0.4598 - val_accuracy: 0.7862\n",
            "Epoch 2/10\n",
            "20000/20000 [==============================] - 103s 5ms/step - loss: 0.3140 - accuracy: 0.8781 - val_loss: 0.2930 - val_accuracy: 0.8788\n",
            "Epoch 3/10\n",
            "20000/20000 [==============================] - 102s 5ms/step - loss: 0.2147 - accuracy: 0.9226 - val_loss: 0.2945 - val_accuracy: 0.8886\n",
            "Epoch 4/10\n",
            "20000/20000 [==============================] - 102s 5ms/step - loss: 0.1628 - accuracy: 0.9444 - val_loss: 0.2946 - val_accuracy: 0.8844\n",
            "Epoch 5/10\n",
            "20000/20000 [==============================] - 103s 5ms/step - loss: 0.1306 - accuracy: 0.9571 - val_loss: 0.4063 - val_accuracy: 0.8694\n",
            "Epoch 6/10\n",
            "20000/20000 [==============================] - 102s 5ms/step - loss: 0.1237 - accuracy: 0.9597 - val_loss: 0.3373 - val_accuracy: 0.8808\n",
            "Epoch 7/10\n",
            "20000/20000 [==============================] - 101s 5ms/step - loss: 0.0968 - accuracy: 0.9696 - val_loss: 0.4038 - val_accuracy: 0.8772\n",
            "Epoch 8/10\n",
            "20000/20000 [==============================] - 102s 5ms/step - loss: 0.0790 - accuracy: 0.9759 - val_loss: 0.4187 - val_accuracy: 0.8760\n",
            "Epoch 9/10\n",
            "20000/20000 [==============================] - 100s 5ms/step - loss: 0.0710 - accuracy: 0.9787 - val_loss: 0.4335 - val_accuracy: 0.8732\n",
            "Epoch 10/10\n",
            "20000/20000 [==============================] - 101s 5ms/step - loss: 0.0614 - accuracy: 0.9826 - val_loss: 0.4509 - val_accuracy: 0.8764\n",
            "CPU times: user 23min 52s, sys: 3min 56s, total: 27min 49s\n",
            "Wall time: 17min\n"
          ],
          "name": "stdout"
        }
      ]
    },
    {
      "cell_type": "code",
      "metadata": {
        "id": "EpgW7-V7ogHa",
        "colab_type": "code",
        "colab": {}
      },
      "source": [
        "loss = history.history['loss']\n",
        "val_loss = history.history['val_loss']\n",
        "acc = history.history['accuracy']\n",
        "val_acc = history.history['val_accuracy']"
      ],
      "execution_count": 18,
      "outputs": []
    },
    {
      "cell_type": "code",
      "metadata": {
        "id": "2hqGdx1aogLv",
        "colab_type": "code",
        "colab": {
          "base_uri": "https://localhost:8080/",
          "height": 285
        },
        "outputId": "2b610954-90ba-413b-964a-bea862196aed"
      },
      "source": [
        "# Plotting Training and Validation Loss\n",
        "\n",
        "epochs = range(1, 11)\n",
        "plt.plot(epochs, loss, 'r', label = 'Training Loss')\n",
        "plt.plot(epochs, val_loss, 'g', label = 'Validation Loss')\n",
        "plt.xlabel('Epochs')\n",
        "plt.ylabel('Loss')\n",
        "plt.legend()\n",
        "plt.show()"
      ],
      "execution_count": 19,
      "outputs": [
        {
          "output_type": "display_data",
          "data": {
            "image/png": "[encoded data removed]",
            "text/plain": [
              "<Figure size 432x288 with 1 Axes>"
            ]
          },
          "metadata": {
            "tags": []
          }
        }
      ]
    },
    {
      "cell_type": "code",
      "metadata": {
        "id": "bda8e839ogO7",
        "colab_type": "code",
        "colab": {
          "base_uri": "https://localhost:8080/",
          "height": 282
        },
        "outputId": "fb36d9e7-2a3e-400f-8e6c-aff407e37b64"
      },
      "source": [
        "# Plotting Training and Validation Accuracy\n",
        "\n",
        "plt.plot(epochs, acc, 'r', label = 'Training Accuarcy')\n",
        "plt.plot(epochs, val_acc, 'g', label = 'Validation Accuracy')\n",
        "plt.xlabel('Epochs')\n",
        "plt.ylabel('Accuracy')\n",
        "plt.legend()\n",
        "plt.show()"
      ],
      "execution_count": 20,
      "outputs": [
        {
          "output_type": "display_data",
          "data": {
            "image/png": "[encoded data removed]",
            "text/plain": [
              "<Figure size 432x288 with 1 Axes>"
            ]
          },
          "metadata": {
            "tags": []
          }
        }
      ]
    },
    {
      "cell_type": "markdown",
      "metadata": {
        "id": "kCLGasRQDb0G",
        "colab_type": "text"
      },
      "source": [
        "## Evaluate model with test data and view results"
      ]
    },
    {
      "cell_type": "code",
      "metadata": {
        "id": "vvxqksPj1H6r",
        "colab_type": "code",
        "colab": {
          "base_uri": "https://localhost:8080/",
          "height": 50
        },
        "outputId": "4d1d17d0-824b-46b3-c085-2f71016a7131"
      },
      "source": [
        "# Testing\n",
        "\n",
        "model.evaluate(X_test, y_test)"
      ],
      "execution_count": 21,
      "outputs": [
        {
          "output_type": "stream",
          "text": [
            "25000/25000 [==============================] - 67s 3ms/step\n"
          ],
          "name": "stdout"
        },
        {
          "output_type": "execute_result",
          "data": {
            "text/plain": [
              "[0.5011011620527506, 0.8595600128173828]"
            ]
          },
          "metadata": {
            "tags": []
          },
          "execution_count": 21
        }
      ]
    },
    {
      "cell_type": "code",
      "metadata": {
        "id": "lrPuSbn71Kmr",
        "colab_type": "code",
        "colab": {
          "base_uri": "https://localhost:8080/",
          "height": 222
        },
        "outputId": "d356f81a-7ad8-47ca-88e6-0e4cec857b74"
      },
      "source": [
        "# Get Model Predictions for test data\n",
        "from sklearn.metrics import classification_report,confusion_matrix\n",
        "import seaborn as sns\n",
        "predicted_classes = model.predict_classes(X_test)\n",
        "print(classification_report(y_test, predicted_classes))"
      ],
      "execution_count": 22,
      "outputs": [
        {
          "output_type": "stream",
          "text": [
            "/usr/local/lib/python3.6/dist-packages/statsmodels/tools/_testing.py:19: FutureWarning: pandas.util.testing is deprecated. Use the functions in the public API at pandas.testing instead.\n",
            "  import pandas.util.testing as tm\n"
          ],
          "name": "stderr"
        },
        {
          "output_type": "stream",
          "text": [
            "              precision    recall  f1-score   support\n",
            "\n",
            "           0       0.85      0.87      0.86     12500\n",
            "           1       0.87      0.85      0.86     12500\n",
            "\n",
            "    accuracy                           0.86     25000\n",
            "   macro avg       0.86      0.86      0.86     25000\n",
            "weighted avg       0.86      0.86      0.86     25000\n",
            "\n"
          ],
          "name": "stdout"
        }
      ]
    },
    {
      "cell_type": "code",
      "metadata": {
        "id": "amSkLIQqFOXB",
        "colab_type": "code",
        "colab": {
          "base_uri": "https://localhost:8080/",
          "height": 305
        },
        "outputId": "d070488e-94d4-4994-ffea-8f66f7b9dcd3"
      },
      "source": [
        "print(\"Test confusion matrix\")\n",
        "cm = confusion_matrix(y_test, predicted_classes)\n",
        "\n",
        "sns.set(font_scale=1.2)\n",
        "sns.heatmap(cm, annot=True, annot_kws={\"size\": 15}, fmt='g')"
      ],
      "execution_count": 23,
      "outputs": [
        {
          "output_type": "stream",
          "text": [
            "Test confusion matrix\n"
          ],
          "name": "stdout"
        },
        {
          "output_type": "execute_result",
          "data": {
            "text/plain": [
              "<matplotlib.axes._subplots.AxesSubplot at 0x7f564f3efa58>"
            ]
          },
          "metadata": {
            "tags": []
          },
          "execution_count": 23
        },
        {
          "output_type": "display_data",
          "data": {
            "image/png": "[encoded data removed]",
            "text/plain": [
              "<Figure size 432x288 with 2 Axes>"
            ]
          },
          "metadata": {
            "tags": []
          }
        }
      ]
    },
    {
      "cell_type": "code",
      "metadata": {
        "id": "vtt6QwDS1NFS",
        "colab_type": "code",
        "colab": {
          "base_uri": "https://localhost:8080/",
          "height": 84
        },
        "outputId": "977155f9-2fc8-4cc6-8621-5e636c1b5dfc"
      },
      "source": [
        "# classify sentiments (Positive or Negative) from review \n",
        "\n",
        "word_to_id = imdb.get_word_index()\n",
        "review1 = \"professional disappointment\"    # review 1\n",
        "review2 = \"i really liked the movie and had fun\"   # review 2\n",
        "print(\"Evaluate the reviews\")\n",
        "print(\"====================\")\n",
        "for review in [review1,review2]:\n",
        "  tmp = []\n",
        "  for word in review.split(\" \"):\n",
        "      tmp.append(word_to_id[word])\n",
        "      tmp_padded = pad_sequences([tmp], maxlen = maxlen) \n",
        "  pred = model.predict(np.array([tmp_padded][0]))[0][0]\n",
        "  if pred >= 0.5:\n",
        "    sentiment = 'Positive'\n",
        "  else:\n",
        "    sentiment = 'Negative'\n",
        "  print(\"%s : %s\" % (review,sentiment))"
      ],
      "execution_count": 24,
      "outputs": [
        {
          "output_type": "stream",
          "text": [
            "Evaluate the reviews\n",
            "====================\n",
            "professional disappointment : Negative\n",
            "i really liked the movie and had fun : Positive\n"
          ],
          "name": "stdout"
        }
      ]
    },
    {
      "cell_type": "code",
      "metadata": {
        "id": "c-rd87u51NXS",
        "colab_type": "code",
        "colab": {}
      },
      "source": [
        ""
      ],
      "execution_count": 24,
      "outputs": []
    }
  ]
}